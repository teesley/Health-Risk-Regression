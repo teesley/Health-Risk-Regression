{
 "cells": [
  {
   "cell_type": "code",
   "execution_count": 7,
   "id": "bd60f2d2-9bbe-40e8-a604-db2c709e2fbc",
   "metadata": {},
   "outputs": [],
   "source": [
    "import numpy as np\n",
    "import pandas as pd\n",
    "import matplotlib.pyplot as plt"
   ]
  },
  {
   "cell_type": "code",
   "execution_count": 8,
   "id": "3ca3b120-4662-4a69-9894-0244e2e417ef",
   "metadata": {},
   "outputs": [],
   "source": [
    "df = pd.read_csv('./data/Maternal_Health_Risk_Data_Set.csv')"
   ]
  },
  {
   "cell_type": "code",
   "execution_count": null,
   "id": "ecc35e73",
   "metadata": {},
   "outputs": [],
   "source": []
  }
 ],
 "metadata": {
  "kernelspec": {
   "display_name": "Python 3 (ipykernel)",
   "language": "python",
   "name": "python3"
  },
  "language_info": {
   "codemirror_mode": {
    "name": "ipython",
    "version": 3
   },
   "file_extension": ".py",
   "mimetype": "text/x-python",
   "name": "python",
   "nbconvert_exporter": "python",
   "pygments_lexer": "ipython3",
   "version": "3.12.3"
  }
 },
 "nbformat": 4,
 "nbformat_minor": 5
}
